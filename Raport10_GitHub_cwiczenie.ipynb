{
  "nbformat": 4,
  "nbformat_minor": 0,
  "metadata": {
    "colab": {
      "provenance": [],
      "authorship_tag": "ABX9TyOlk2Wu5GXMYKLeok/JXeSc",
      "include_colab_link": true
    },
    "kernelspec": {
      "name": "python3",
      "display_name": "Python 3"
    },
    "language_info": {
      "name": "python"
    }
  },
  "cells": [
    {
      "cell_type": "markdown",
      "metadata": {
        "id": "view-in-github",
        "colab_type": "text"
      },
      "source": [
        "<a href=\"https://colab.research.google.com/github/kb123123123/Raport-10/blob/main/Raport10_GitHub_cwiczenie.ipynb\" target=\"_parent\"><img src=\"https://colab.research.google.com/assets/colab-badge.svg\" alt=\"Open In Colab\"/></a>"
      ]
    },
    {
      "cell_type": "markdown",
      "source": [
        "# Raport 8"
      ],
      "metadata": {
        "id": "3wIewjr5V-Da"
      }
    },
    {
      "cell_type": "code",
      "source": [
        "!wget https://dq-content.s3.amazonaws.com/350/googleplaystore.csv -O google_wget.csv\n",
        "!wget https://dq-content.s3.amazonaws.com/350/AppleStore.csv -O apple_wget.csv\n",
        "\n",
        "from csv import reader\n",
        "google = list(reader(open('google_wget.csv')))\n",
        "apple = list(reader(open('apple_wget.csv')))\n",
        "\n",
        "apple = apple[1:]\n",
        "google = google[1:]\n",
        "\n",
        "apple_header = apple[0]\n",
        "google_header = google[0]"
      ],
      "metadata": {
        "colab": {
          "base_uri": "https://localhost:8080/"
        },
        "id": "P82dK2m0a1td",
        "outputId": "0ce4e9b9-4564-46a7-9d92-67f937c9f93c"
      },
      "execution_count": null,
      "outputs": [
        {
          "output_type": "stream",
          "name": "stdout",
          "text": [
            "--2025-05-04 19:21:22--  https://dq-content.s3.amazonaws.com/350/googleplaystore.csv\n",
            "Resolving dq-content.s3.amazonaws.com (dq-content.s3.amazonaws.com)... 52.217.237.9, 52.217.160.193, 52.217.34.20, ...\n",
            "Connecting to dq-content.s3.amazonaws.com (dq-content.s3.amazonaws.com)|52.217.237.9|:443... connected.\n",
            "HTTP request sent, awaiting response... 200 OK\n",
            "Length: 1349314 (1.3M) [text/csv]\n",
            "Saving to: ‘google_wget.csv’\n",
            "\n",
            "google_wget.csv     100%[===================>]   1.29M  8.47MB/s    in 0.2s    \n",
            "\n",
            "2025-05-04 19:21:22 (8.47 MB/s) - ‘google_wget.csv’ saved [1349314/1349314]\n",
            "\n",
            "--2025-05-04 19:21:22--  https://dq-content.s3.amazonaws.com/350/AppleStore.csv\n",
            "Resolving dq-content.s3.amazonaws.com (dq-content.s3.amazonaws.com)... 52.217.237.9, 52.217.160.193, 52.217.34.20, ...\n",
            "Connecting to dq-content.s3.amazonaws.com (dq-content.s3.amazonaws.com)|52.217.237.9|:443... connected.\n",
            "HTTP request sent, awaiting response... 200 OK\n",
            "Length: 725761 (709K) [text/csv]\n",
            "Saving to: ‘apple_wget.csv’\n",
            "\n",
            "apple_wget.csv      100%[===================>] 708.75K  --.-KB/s    in 0.1s    \n",
            "\n",
            "2025-05-04 19:21:23 (5.40 MB/s) - ‘apple_wget.csv’ saved [725761/725761]\n",
            "\n"
          ]
        }
      ]
    },
    {
      "cell_type": "code",
      "source": [
        "def only_good_length_rows(dataset, header):\n",
        "  good_length_rows = []\n",
        "  for row in dataset:\n",
        "    if len(row) == len(header):\n",
        "      good_length_rows.append(row)\n",
        "  return good_length_rows\n",
        "\n",
        "def remove_duplicates(dataset, index_name, index_reviews):\n",
        "  reviews_max = {}\n",
        "  for app in dataset:\n",
        "    name = app[index_name]\n",
        "    n_reviews = float(app[index_reviews])\n",
        "    if name in reviews_max and reviews_max[name] < n_reviews:\n",
        "        reviews_max[name] = n_reviews\n",
        "    elif name not in reviews_max:\n",
        "        reviews_max[name] = n_reviews\n",
        "\n",
        "  clean = []\n",
        "  already_added = []\n",
        "  for app in dataset:\n",
        "    name = app[index_name]\n",
        "    n_reviews = float(app[index_reviews])\n",
        "\n",
        "    if (reviews_max[name] == n_reviews) and (name not in already_added):\n",
        "        clean.append(app)\n",
        "        already_added.append(name)\n",
        "  return clean\n",
        "\n",
        "def is_english(string):\n",
        "    non_ascii = 0\n",
        "    for character in string:\n",
        "        if ord(character) > 127:\n",
        "            non_ascii += 1\n",
        "    if non_ascii > 3:\n",
        "        return False\n",
        "    else:\n",
        "        return True\n",
        "\n",
        "def remove_non_english_apps(dataset, index):\n",
        "  english_dataset = []\n",
        "  for row in dataset:\n",
        "    name = row[index]\n",
        "    if is_english(name):\n",
        "      english_dataset.append(row)\n",
        "  return english_dataset\n",
        "\n",
        "def only_free_apps(dataset, index):\n",
        "  free_dataset = []\n",
        "  for row in dataset:\n",
        "    price = row[index]\n",
        "    if price == '0' or price == '0.0':\n",
        "      free_dataset.append(row)\n",
        "  return free_dataset\n",
        "\n",
        "def google_ready():\n",
        "  google_step2 = google\n",
        "  google_step3 = only_good_length_rows(google_step2, google_header)\n",
        "  google_step5 = remove_duplicates(google_step3, 0, 3)\n",
        "  google_step7 = remove_non_english_apps(google_step5, 0)\n",
        "  google_English_free = only_free_apps(google_step7, 7)\n",
        "  return google_English_free\n",
        "\n",
        "def apple_ready():\n",
        "  apple_step2 = apple\n",
        "  apple_step3 = only_good_length_rows(apple_step2, apple_header)\n",
        "  apple_step5 = apple_step3 # nothing to do\n",
        "  apple_step7 = remove_non_english_apps(apple_step5, 1)\n",
        "  apple_English_free = only_free_apps(apple_step7, 4)\n",
        "  return apple_English_free\n",
        "\n",
        "def verify_ready():\n",
        "  google_OK = google_ready() == free_google\n",
        "  apple_OK = apple_ready() == free_apple\n",
        "  print(\"google:\", google_OK, \"apple:\", apple_OK)\n",
        "  return google_OK and apple_OK\n",
        "\n",
        "verify_ready()"
      ],
      "metadata": {
        "colab": {
          "base_uri": "https://localhost:8080/"
        },
        "id": "K-YgE4KDWgWo",
        "outputId": "6ae8bad2-eac8-47d2-fcd3-a61f79db4ef6"
      },
      "execution_count": null,
      "outputs": [
        {
          "output_type": "stream",
          "name": "stdout",
          "text": [
            "google: True apple: True\n"
          ]
        },
        {
          "output_type": "execute_result",
          "data": {
            "text/plain": [
              "True"
            ]
          },
          "metadata": {},
          "execution_count": 19
        }
      ]
    },
    {
      "cell_type": "code",
      "source": [
        "def explore_data(dataset, start, end, rows_and_columns=False):\n",
        "    dataset_slice = dataset[start:end]\n",
        "    for row in dataset_slice:\n",
        "        print(row)\n",
        "        print('\\n') # adds a new (empty) line after each row\n",
        "    if rows_and_columns:\n",
        "      print('Number of rows:', len(dataset))\n",
        "      print('Number of columns:', len(dataset[0]))\n",
        "\n",
        "explore_data(google, 0, 3, True)"
      ],
      "metadata": {
        "colab": {
          "base_uri": "https://localhost:8080/"
        },
        "id": "3Csu1ffhaOtn",
        "outputId": "fde96c7e-7bda-473c-99a7-ec500383a308"
      },
      "execution_count": null,
      "outputs": [
        {
          "output_type": "stream",
          "name": "stdout",
          "text": [
            "['Photo Editor & Candy Camera & Grid & ScrapBook', 'ART_AND_DESIGN', '4.1', '159', '19M', '10,000+', 'Free', '0', 'Everyone', 'Art & Design', 'January 7, 2018', '1.0.0', '4.0.3 and up']\n",
            "\n",
            "\n",
            "['Coloring book moana', 'ART_AND_DESIGN', '3.9', '967', '14M', '500,000+', 'Free', '0', 'Everyone', 'Art & Design;Pretend Play', 'January 15, 2018', '2.0.0', '4.0.3 and up']\n",
            "\n",
            "\n",
            "['U Launcher Lite – FREE Live Cool Themes, Hide Apps', 'ART_AND_DESIGN', '4.7', '87510', '8.7M', '5,000,000+', 'Free', '0', 'Everyone', 'Art & Design', 'August 1, 2018', '1.2.4', '4.0.3 and up']\n",
            "\n",
            "\n",
            "Number of rows: 10841\n",
            "Number of columns: 13\n"
          ]
        }
      ]
    },
    {
      "cell_type": "code",
      "source": [
        "def unich_step12_2():\n",
        "  unich = '''\n",
        "  Social Networking : 71548.34905660378\n",
        "  Photo & Video : 28441.54375\n",
        "  Games : 22788.6696905016\n",
        "  Music : 57326.530303030304\n",
        "  Reference : 74942.11111111111\n",
        "  Health & Fitness : 23298.015384615384\n",
        "  Weather : 52279.892857142855\n",
        "  Utilities : 18684.456790123455\n",
        "  Travel : 28243.8\n",
        "  Shopping : 26919.690476190477\n",
        "  News : 21248.023255813954\n",
        "  Navigation : 86090.33333333333\n",
        "  Lifestyle : 16485.764705882353\n",
        "  Entertainment : 14029.830708661417\n",
        "  Food & Drink : 33333.92307692308\n",
        "  Sports : 23008.898550724636\n",
        "  Book : 39758.5\n",
        "  Finance : 31467.944444444445\n",
        "  Education : 7003.983050847458\n",
        "  Productivity : 21028.410714285714\n",
        "  Business : 7491.117647058823\n",
        "  Catalogs : 4004.0\n",
        "  Medical : 612.0\n",
        "  '''\n",
        "  dct = {}\n",
        "  for line in unich.strip().splitlines():\n",
        "    parsed = line.split(':')\n",
        "    genre = parsed[0].strip()\n",
        "    average = float(parsed[1].strip())\n",
        "    average = int(round(average, 0))\n",
        "    dct[genre] = average\n",
        "  return sorted(dct.items(), key=lambda x: x[1], reverse=True)\n",
        "\n",
        "def unich_step13_2():\n",
        "  unich = '''\n",
        "  ART_AND_DESIGN : 1986335.0877192982\n",
        "  AUTO_AND_VEHICLES : 647317.8170731707\n",
        "  BEAUTY : 513151.88679245283\n",
        "  BOOKS_AND_REFERENCE : 8767811.894736841\n",
        "  BUSINESS : 1712290.1474201474\n",
        "  COMICS : 817657.2727272727\n",
        "  COMMUNICATION : 38456119.167247385\n",
        "  DATING : 854028.8303030303\n",
        "  EDUCATION : 1833495.145631068\n",
        "  ENTERTAINMENT : 11640705.88235294\n",
        "  EVENTS : 253542.22222222222\n",
        "  FINANCE : 1387692.475609756\n",
        "  FOOD_AND_DRINK : 1924897.7363636363\n",
        "  HEALTH_AND_FITNESS : 4188821.9853479853\n",
        "  HOUSE_AND_HOME : 1331540.5616438356\n",
        "  LIBRARIES_AND_DEMO : 638503.734939759\n",
        "  LIFESTYLE : 1437816.2687861272\n",
        "  GAME : 15588015.603248259\n",
        "  FAMILY : 3695641.8198090694\n",
        "  MEDICAL : 120550.61980830671\n",
        "  SOCIAL : 23253652.127118643\n",
        "  SHOPPING : 7036877.311557789\n",
        "  PHOTOGRAPHY : 17840110.40229885\n",
        "  SPORTS : 3638640.1428571427\n",
        "  TRAVEL_AND_LOCAL : 13984077.710144928\n",
        "  TOOLS : 10801391.298666667\n",
        "  PERSONALIZATION : 5201482.6122448975\n",
        "  PRODUCTIVITY : 16787331.344927534\n",
        "  PARENTING : 542603.6206896552\n",
        "  WEATHER : 5074486.197183099\n",
        "  VIDEO_PLAYERS : 24727872.452830188\n",
        "  NEWS_AND_MAGAZINES : 9549178.467741935\n",
        "  MAPS_AND_NAVIGATION : 4056941.7741935486\n",
        "  '''\n",
        "  dct = {}\n",
        "  for line in unich.strip().splitlines():\n",
        "    parsed = line.split(':')\n",
        "    genre = parsed[0].strip()\n",
        "    average = float(parsed[1].strip())\n",
        "    average = int(round(average, 0))\n",
        "    dct[genre] = average\n",
        "  return sorted(dct.items(), key=lambda x: x[1], reverse=True)\n",
        "\n",
        "\n",
        "print(unich_step12_2())\n",
        "print('\\n')\n",
        "print(unich_step13_2())\n",
        "\n",
        "def verify_step12_2():\n",
        "  return unich_step12_2() == step12_2\n",
        "\n",
        "def verify_step13_2():\n",
        "  return unich_step13_2() == step13_2\n",
        "\n",
        "verify_step12_2()\n",
        "verify_step13_2()"
      ],
      "metadata": {
        "colab": {
          "base_uri": "https://localhost:8080/"
        },
        "id": "Duw1PQXRyy7p",
        "outputId": "68759f6c-5ce9-4e27-ddf9-e9c75c089a07"
      },
      "execution_count": null,
      "outputs": [
        {
          "output_type": "stream",
          "name": "stdout",
          "text": [
            "[('Navigation', 86090), ('Reference', 74942), ('Social Networking', 71548), ('Music', 57327), ('Weather', 52280), ('Book', 39758), ('Food & Drink', 33334), ('Finance', 31468), ('Photo & Video', 28442), ('Travel', 28244), ('Shopping', 26920), ('Health & Fitness', 23298), ('Sports', 23009), ('Games', 22789), ('News', 21248), ('Productivity', 21028), ('Utilities', 18684), ('Lifestyle', 16486), ('Entertainment', 14030), ('Business', 7491), ('Education', 7004), ('Catalogs', 4004), ('Medical', 612)]\n",
            "\n",
            "\n",
            "[('COMMUNICATION', 38456119), ('VIDEO_PLAYERS', 24727872), ('SOCIAL', 23253652), ('PHOTOGRAPHY', 17840110), ('PRODUCTIVITY', 16787331), ('GAME', 15588016), ('TRAVEL_AND_LOCAL', 13984078), ('ENTERTAINMENT', 11640706), ('TOOLS', 10801391), ('NEWS_AND_MAGAZINES', 9549178), ('BOOKS_AND_REFERENCE', 8767812), ('SHOPPING', 7036877), ('PERSONALIZATION', 5201483), ('WEATHER', 5074486), ('HEALTH_AND_FITNESS', 4188822), ('MAPS_AND_NAVIGATION', 4056942), ('FAMILY', 3695642), ('SPORTS', 3638640), ('ART_AND_DESIGN', 1986335), ('FOOD_AND_DRINK', 1924898), ('EDUCATION', 1833495), ('BUSINESS', 1712290), ('LIFESTYLE', 1437816), ('FINANCE', 1387692), ('HOUSE_AND_HOME', 1331541), ('DATING', 854029), ('COMICS', 817657), ('AUTO_AND_VEHICLES', 647318), ('LIBRARIES_AND_DEMO', 638504), ('PARENTING', 542604), ('BEAUTY', 513152), ('EVENTS', 253542), ('MEDICAL', 120551)]\n"
          ]
        },
        {
          "output_type": "execute_result",
          "data": {
            "text/plain": [
              "False"
            ]
          },
          "metadata": {},
          "execution_count": 34
        }
      ]
    }
  ]
}